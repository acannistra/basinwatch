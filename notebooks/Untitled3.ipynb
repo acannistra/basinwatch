{
 "cells": [
  {
   "cell_type": "code",
   "execution_count": 1,
   "metadata": {
    "collapsed": false
   },
   "outputs": [
    {
     "name": "stderr",
     "output_type": "stream",
     "text": [
      "Loading required package: raster\n",
      "Loading required package: sp\n",
      "Type 'citation(\"pROC\")' for a citation.\n",
      "\n",
      "Attaching package: ‘pROC’\n",
      "\n",
      "The following objects are masked from ‘package:stats’:\n",
      "\n",
      "    cov, smooth, var\n",
      "\n",
      "Loading required package: gplots\n",
      "\n",
      "Attaching package: ‘gplots’\n",
      "\n",
      "The following object is masked from ‘package:stats’:\n",
      "\n",
      "    lowess\n",
      "\n"
     ]
    }
   ],
   "source": [
    "library(dismo)\n",
    "library(plyr)\n",
    "library(rgbif)\n",
    "library(GRaF)\n",
    "library(pROC)\n",
    "library(ROCR)\n",
    "library(biogeo)\n",
    "library(rgeospatialquality)\n",
    "options(repr.plot.width = 20, repr.plot.height = 9)\n"
   ]
  },
  {
   "cell_type": "code",
   "execution_count": 2,
   "metadata": {
    "collapsed": false
   },
   "outputs": [],
   "source": [
    "setwd(\"~/Dropbox/Projects/UW//SDMpriors\")"
   ]
  },
  {
   "cell_type": "code",
   "execution_count": 3,
   "metadata": {
    "collapsed": false
   },
   "outputs": [],
   "source": [
    "data = read.csv(\"Sundayetal_thermallimits.csv\")"
   ]
  },
  {
   "cell_type": "code",
   "execution_count": 4,
   "metadata": {
    "collapsed": false
   },
   "outputs": [
    {
     "data": {
      "text/html": [
       "<table>\n",
       "<thead><tr><th></th><th scope=col>species</th><th scope=col>tmax</th><th scope=col>tmin</th><th scope=col>tmax_metric</th><th scope=col>tmin_metric</th><th scope=col>lat</th><th scope=col>longitude</th><th scope=col>hemisphere</th><th scope=col>altitude</th><th scope=col>phylum</th><th scope=col>class</th><th scope=col>order</th><th scope=col>family</th><th scope=col>genus</th><th scope=col>sim_altitude</th><th scope=col>Ref.</th></tr></thead>\n",
       "<tbody>\n",
       "\t<tr><th scope=row>71</th><td>Bufo_alvarius   </td><td>39.9            </td><td> 2.5            </td><td>crit            </td><td>leth            </td><td>31.00           </td><td>-112.00         </td><td>N               </td><td> 304.8          </td><td>Chordata        </td><td>Amphibia        </td><td>Anura           </td><td>Bufonidae       </td><td>Bufo            </td><td> 553            </td><td>Brattstrom_1968 </td></tr>\n",
       "\t<tr><th scope=row>72</th><td>Bufo_boreas     </td><td>36.5            </td><td>  NA            </td><td>crit            </td><td>0               </td><td>34.12           </td><td>-116.82         </td><td>N               </td><td>2743.2          </td><td>Chordata        </td><td>Amphibia        </td><td>Anura           </td><td>Bufonidae       </td><td>Bufo            </td><td>2032            </td><td>Brattstrom_1968 </td></tr>\n",
       "\t<tr><th scope=row>73</th><td>Bufo_canaliferus</td><td>37.3            </td><td> 9.5            </td><td>crit            </td><td>leth            </td><td>14.58           </td><td> -90.53         </td><td>N               </td><td> 914.4          </td><td>Chordata        </td><td>Amphibia        </td><td>Anura           </td><td>Bufonidae       </td><td>Bufo            </td><td>1617            </td><td>Brattstrom_1968 </td></tr>\n",
       "\t<tr><th scope=row>74</th><td>Bufo_canorus    </td><td>38.0            </td><td>-2.0            </td><td>crit            </td><td>leth            </td><td>37.91           </td><td>-119.26         </td><td>N               </td><td>2743.2          </td><td>Chordata        </td><td>Amphibia        </td><td>Anura           </td><td>Bufonidae       </td><td>Bufo            </td><td>3145            </td><td>Brattstrom_1968 </td></tr>\n",
       "\t<tr><th scope=row>75</th><td>Bufo_cocifer    </td><td>  NA            </td><td> 2.8            </td><td>0               </td><td>leth            </td><td> 9.93           </td><td> -84.08         </td><td>N               </td><td>1219.2          </td><td>Chordata        </td><td>Amphibia        </td><td>Anura           </td><td>Bufonidae       </td><td>Bufo            </td><td>1288            </td><td>Brattstrom_1968 </td></tr>\n",
       "\t<tr><th scope=row>76</th><td>Bufo_cognatus   </td><td>41.3            </td><td>-4.0            </td><td>crit            </td><td>leth            </td><td>31.00           </td><td>-112.00         </td><td>N               </td><td> 304.8          </td><td>Chordata        </td><td>Amphibia        </td><td>Anura           </td><td>Bufonidae       </td><td>Bufo            </td><td> 553            </td><td>Brattstrom_1968 </td></tr>\n",
       "</tbody>\n",
       "</table>\n"
      ],
      "text/latex": [
       "\\begin{tabular}{r|llllllllllllllll}\n",
       "  & species & tmax & tmin & tmax\\_metric & tmin\\_metric & lat & longitude & hemisphere & altitude & phylum & class & order & family & genus & sim\\_altitude & Ref.\\\\\n",
       "\\hline\n",
       "\t71 & Bufo\\_alvarius    & 39.9               &  2.5               & crit               & leth               & 31.00              & -112.00            & N                  &  304.8             & Chordata           & Amphibia           & Anura              & Bufonidae          & Bufo               &  553               & Brattstrom\\_1968 \\\\\n",
       "\t72 & Bufo\\_boreas      & 36.5               &   NA               & crit               & 0                  & 34.12              & -116.82            & N                  & 2743.2             & Chordata           & Amphibia           & Anura              & Bufonidae          & Bufo               & 2032               & Brattstrom\\_1968 \\\\\n",
       "\t73 & Bufo\\_canaliferus & 37.3               &  9.5               & crit               & leth               & 14.58              &  -90.53            & N                  &  914.4             & Chordata           & Amphibia           & Anura              & Bufonidae          & Bufo               & 1617               & Brattstrom\\_1968 \\\\\n",
       "\t74 & Bufo\\_canorus     & 38.0               & -2.0               & crit               & leth               & 37.91              & -119.26            & N                  & 2743.2             & Chordata           & Amphibia           & Anura              & Bufonidae          & Bufo               & 3145               & Brattstrom\\_1968 \\\\\n",
       "\t75 & Bufo\\_cocifer     &   NA               &  2.8               & 0                  & leth               &  9.93              &  -84.08            & N                  & 1219.2             & Chordata           & Amphibia           & Anura              & Bufonidae          & Bufo               & 1288               & Brattstrom\\_1968 \\\\\n",
       "\t76 & Bufo\\_cognatus    & 41.3               & -4.0               & crit               & leth               & 31.00              & -112.00            & N                  &  304.8             & Chordata           & Amphibia           & Anura              & Bufonidae          & Bufo               &  553               & Brattstrom\\_1968 \\\\\n",
       "\\end{tabular}\n"
      ],
      "text/markdown": [
       "\n",
       "| <!--/--> | species | tmax | tmin | tmax_metric | tmin_metric | lat | longitude | hemisphere | altitude | phylum | class | order | family | genus | sim_altitude | Ref. | \n",
       "|---|---|---|---|---|---|\n",
       "| 71 | Bufo_alvarius    | 39.9             |  2.5             | crit             | leth             | 31.00            | -112.00          | N                |  304.8           | Chordata         | Amphibia         | Anura            | Bufonidae        | Bufo             |  553             | Brattstrom_1968  | \n",
       "| 72 | Bufo_boreas      | 36.5             |   NA             | crit             | 0                | 34.12            | -116.82          | N                | 2743.2           | Chordata         | Amphibia         | Anura            | Bufonidae        | Bufo             | 2032             | Brattstrom_1968  | \n",
       "| 73 | Bufo_canaliferus | 37.3             |  9.5             | crit             | leth             | 14.58            |  -90.53          | N                |  914.4           | Chordata         | Amphibia         | Anura            | Bufonidae        | Bufo             | 1617             | Brattstrom_1968  | \n",
       "| 74 | Bufo_canorus     | 38.0             | -2.0             | crit             | leth             | 37.91            | -119.26          | N                | 2743.2           | Chordata         | Amphibia         | Anura            | Bufonidae        | Bufo             | 3145             | Brattstrom_1968  | \n",
       "| 75 | Bufo_cocifer     |   NA             |  2.8             | 0                | leth             |  9.93            |  -84.08          | N                | 1219.2           | Chordata         | Amphibia         | Anura            | Bufonidae        | Bufo             | 1288             | Brattstrom_1968  | \n",
       "| 76 | Bufo_cognatus    | 41.3             | -4.0             | crit             | leth             | 31.00            | -112.00          | N                |  304.8           | Chordata         | Amphibia         | Anura            | Bufonidae        | Bufo             |  553             | Brattstrom_1968  | \n",
       "\n",
       "\n"
      ],
      "text/plain": [
       "   species          tmax tmin tmax_metric tmin_metric lat   longitude\n",
       "71 Bufo_alvarius    39.9  2.5 crit        leth        31.00 -112.00  \n",
       "72 Bufo_boreas      36.5   NA crit        0           34.12 -116.82  \n",
       "73 Bufo_canaliferus 37.3  9.5 crit        leth        14.58  -90.53  \n",
       "74 Bufo_canorus     38.0 -2.0 crit        leth        37.91 -119.26  \n",
       "75 Bufo_cocifer       NA  2.8 0           leth         9.93  -84.08  \n",
       "76 Bufo_cognatus    41.3 -4.0 crit        leth        31.00 -112.00  \n",
       "   hemisphere altitude phylum   class    order family    genus sim_altitude\n",
       "71 N           304.8   Chordata Amphibia Anura Bufonidae Bufo   553        \n",
       "72 N          2743.2   Chordata Amphibia Anura Bufonidae Bufo  2032        \n",
       "73 N           914.4   Chordata Amphibia Anura Bufonidae Bufo  1617        \n",
       "74 N          2743.2   Chordata Amphibia Anura Bufonidae Bufo  3145        \n",
       "75 N          1219.2   Chordata Amphibia Anura Bufonidae Bufo  1288        \n",
       "76 N           304.8   Chordata Amphibia Anura Bufonidae Bufo   553        \n",
       "   Ref.           \n",
       "71 Brattstrom_1968\n",
       "72 Brattstrom_1968\n",
       "73 Brattstrom_1968\n",
       "74 Brattstrom_1968\n",
       "75 Brattstrom_1968\n",
       "76 Brattstrom_1968"
      ]
     },
     "metadata": {},
     "output_type": "display_data"
    }
   ],
   "source": [
    "data = subset(data, data$phylum==\"Chordata\")\n",
    "head(data)"
   ]
  },
  {
   "cell_type": "code",
   "execution_count": 5,
   "metadata": {
    "collapsed": false
   },
   "outputs": [
    {
     "data": {
      "text/html": [
       "<table>\n",
       "<thead><tr><th></th><th scope=col>species</th><th scope=col>tmax</th><th scope=col>tmin</th><th scope=col>tmax_metric</th><th scope=col>tmin_metric</th><th scope=col>lat</th><th scope=col>longitude</th><th scope=col>hemisphere</th><th scope=col>altitude</th><th scope=col>phylum</th><th scope=col>class</th><th scope=col>order</th><th scope=col>family</th><th scope=col>genus</th><th scope=col>sim_altitude</th><th scope=col>Ref.</th></tr></thead>\n",
       "<tbody>\n",
       "\t<tr><th scope=row>71</th><td>Bufo_alvarius   </td><td>39.9            </td><td> 2.5            </td><td>crit            </td><td>leth            </td><td>31.00           </td><td>-112.00         </td><td>N               </td><td> 304.8          </td><td>Chordata        </td><td>Amphibia        </td><td>Anura           </td><td>Bufonidae       </td><td>Bufo            </td><td> 553            </td><td>Brattstrom_1968 </td></tr>\n",
       "\t<tr><th scope=row>73</th><td>Bufo_canaliferus</td><td>37.3            </td><td> 9.5            </td><td>crit            </td><td>leth            </td><td>14.58           </td><td> -90.53         </td><td>N               </td><td> 914.4          </td><td>Chordata        </td><td>Amphibia        </td><td>Anura           </td><td>Bufonidae       </td><td>Bufo            </td><td>1617            </td><td>Brattstrom_1968 </td></tr>\n",
       "\t<tr><th scope=row>74</th><td>Bufo_canorus    </td><td>38.0            </td><td>-2.0            </td><td>crit            </td><td>leth            </td><td>37.91           </td><td>-119.26         </td><td>N               </td><td>2743.2          </td><td>Chordata        </td><td>Amphibia        </td><td>Anura           </td><td>Bufonidae       </td><td>Bufo            </td><td>3145            </td><td>Brattstrom_1968 </td></tr>\n",
       "\t<tr><th scope=row>76</th><td>Bufo_cognatus   </td><td>41.3            </td><td>-4.0            </td><td>crit            </td><td>leth            </td><td>31.00           </td><td>-112.00         </td><td>N               </td><td> 304.8          </td><td>Chordata        </td><td>Amphibia        </td><td>Anura           </td><td>Bufonidae       </td><td>Bufo            </td><td> 553            </td><td>Brattstrom_1968 </td></tr>\n",
       "\t<tr><th scope=row>77</th><td>Bufo_debilis    </td><td>40.1            </td><td> 2.5            </td><td>crit            </td><td>leth            </td><td>27.00           </td><td>-112.00         </td><td>N               </td><td> 304.8          </td><td>Chordata        </td><td>Amphibia        </td><td>Anura           </td><td>Bufonidae       </td><td>Bufo            </td><td>  82            </td><td>Brattstrom_1968 </td></tr>\n",
       "\t<tr><th scope=row>78</th><td>Bufo_exsul      </td><td>37.1            </td><td>-4.0            </td><td>crit            </td><td>leth            </td><td>38.06           </td><td> -84.45         </td><td>N               </td><td>1524.0          </td><td>Chordata        </td><td>Amphibia        </td><td>Anura           </td><td>Bufonidae       </td><td>Bufo            </td><td> 291            </td><td>Brattstrom_1968 </td></tr>\n",
       "</tbody>\n",
       "</table>\n"
      ],
      "text/latex": [
       "\\begin{tabular}{r|llllllllllllllll}\n",
       "  & species & tmax & tmin & tmax\\_metric & tmin\\_metric & lat & longitude & hemisphere & altitude & phylum & class & order & family & genus & sim\\_altitude & Ref.\\\\\n",
       "\\hline\n",
       "\t71 & Bufo\\_alvarius    & 39.9               &  2.5               & crit               & leth               & 31.00              & -112.00            & N                  &  304.8             & Chordata           & Amphibia           & Anura              & Bufonidae          & Bufo               &  553               & Brattstrom\\_1968 \\\\\n",
       "\t73 & Bufo\\_canaliferus & 37.3               &  9.5               & crit               & leth               & 14.58              &  -90.53            & N                  &  914.4             & Chordata           & Amphibia           & Anura              & Bufonidae          & Bufo               & 1617               & Brattstrom\\_1968 \\\\\n",
       "\t74 & Bufo\\_canorus     & 38.0               & -2.0               & crit               & leth               & 37.91              & -119.26            & N                  & 2743.2             & Chordata           & Amphibia           & Anura              & Bufonidae          & Bufo               & 3145               & Brattstrom\\_1968 \\\\\n",
       "\t76 & Bufo\\_cognatus    & 41.3               & -4.0               & crit               & leth               & 31.00              & -112.00            & N                  &  304.8             & Chordata           & Amphibia           & Anura              & Bufonidae          & Bufo               &  553               & Brattstrom\\_1968 \\\\\n",
       "\t77 & Bufo\\_debilis     & 40.1               &  2.5               & crit               & leth               & 27.00              & -112.00            & N                  &  304.8             & Chordata           & Amphibia           & Anura              & Bufonidae          & Bufo               &   82               & Brattstrom\\_1968 \\\\\n",
       "\t78 & Bufo\\_exsul       & 37.1               & -4.0               & crit               & leth               & 38.06              &  -84.45            & N                  & 1524.0             & Chordata           & Amphibia           & Anura              & Bufonidae          & Bufo               &  291               & Brattstrom\\_1968 \\\\\n",
       "\\end{tabular}\n"
      ],
      "text/markdown": [
       "\n",
       "| <!--/--> | species | tmax | tmin | tmax_metric | tmin_metric | lat | longitude | hemisphere | altitude | phylum | class | order | family | genus | sim_altitude | Ref. | \n",
       "|---|---|---|---|---|---|\n",
       "| 71 | Bufo_alvarius    | 39.9             |  2.5             | crit             | leth             | 31.00            | -112.00          | N                |  304.8           | Chordata         | Amphibia         | Anura            | Bufonidae        | Bufo             |  553             | Brattstrom_1968  | \n",
       "| 73 | Bufo_canaliferus | 37.3             |  9.5             | crit             | leth             | 14.58            |  -90.53          | N                |  914.4           | Chordata         | Amphibia         | Anura            | Bufonidae        | Bufo             | 1617             | Brattstrom_1968  | \n",
       "| 74 | Bufo_canorus     | 38.0             | -2.0             | crit             | leth             | 37.91            | -119.26          | N                | 2743.2           | Chordata         | Amphibia         | Anura            | Bufonidae        | Bufo             | 3145             | Brattstrom_1968  | \n",
       "| 76 | Bufo_cognatus    | 41.3             | -4.0             | crit             | leth             | 31.00            | -112.00          | N                |  304.8           | Chordata         | Amphibia         | Anura            | Bufonidae        | Bufo             |  553             | Brattstrom_1968  | \n",
       "| 77 | Bufo_debilis     | 40.1             |  2.5             | crit             | leth             | 27.00            | -112.00          | N                |  304.8           | Chordata         | Amphibia         | Anura            | Bufonidae        | Bufo             |   82             | Brattstrom_1968  | \n",
       "| 78 | Bufo_exsul       | 37.1             | -4.0             | crit             | leth             | 38.06            |  -84.45          | N                | 1524.0           | Chordata         | Amphibia         | Anura            | Bufonidae        | Bufo             |  291             | Brattstrom_1968  | \n",
       "\n",
       "\n"
      ],
      "text/plain": [
       "   species          tmax tmin tmax_metric tmin_metric lat   longitude\n",
       "71 Bufo_alvarius    39.9  2.5 crit        leth        31.00 -112.00  \n",
       "73 Bufo_canaliferus 37.3  9.5 crit        leth        14.58  -90.53  \n",
       "74 Bufo_canorus     38.0 -2.0 crit        leth        37.91 -119.26  \n",
       "76 Bufo_cognatus    41.3 -4.0 crit        leth        31.00 -112.00  \n",
       "77 Bufo_debilis     40.1  2.5 crit        leth        27.00 -112.00  \n",
       "78 Bufo_exsul       37.1 -4.0 crit        leth        38.06  -84.45  \n",
       "   hemisphere altitude phylum   class    order family    genus sim_altitude\n",
       "71 N           304.8   Chordata Amphibia Anura Bufonidae Bufo   553        \n",
       "73 N           914.4   Chordata Amphibia Anura Bufonidae Bufo  1617        \n",
       "74 N          2743.2   Chordata Amphibia Anura Bufonidae Bufo  3145        \n",
       "76 N           304.8   Chordata Amphibia Anura Bufonidae Bufo   553        \n",
       "77 N           304.8   Chordata Amphibia Anura Bufonidae Bufo    82        \n",
       "78 N          1524.0   Chordata Amphibia Anura Bufonidae Bufo   291        \n",
       "   Ref.           \n",
       "71 Brattstrom_1968\n",
       "73 Brattstrom_1968\n",
       "74 Brattstrom_1968\n",
       "76 Brattstrom_1968\n",
       "77 Brattstrom_1968\n",
       "78 Brattstrom_1968"
      ]
     },
     "metadata": {},
     "output_type": "display_data"
    }
   ],
   "source": [
    "data = data[!is.na(data$tmax) & !is.na(data$tmin),]\n",
    "head(data)"
   ]
  },
  {
   "cell_type": "code",
   "execution_count": 6,
   "metadata": {
    "collapsed": false
   },
   "outputs": [],
   "source": [
    "data$spec = gsub(\"_\",\" \",data$species)\n",
    "spec.id = 55"
   ]
  },
  {
   "cell_type": "code",
   "execution_count": 10,
   "metadata": {
    "collapsed": false
   },
   "outputs": [
    {
     "ename": "ERROR",
     "evalue": "Error in curl::curl_fetch_memory(url, handle = handle): Timeout was reached\n",
     "output_type": "error",
     "traceback": [
      "Error in curl::curl_fetch_memory(url, handle = handle): Timeout was reached\nTraceback:\n",
      "1. occ_data(scientificName = data$spec[spec.id], limit = 1000, minimal = FALSE)",
      "2. .get_occ_data()",
      "3. gbif_GET(url, args, TRUE, ...)",
      "4. GET(url, query = args, make_rgbif_ua(), ...)",
      "5. request_perform(req, hu$handle$handle)",
      "6. request_fetch(req$output, req$url, handle)",
      "7. request_fetch.write_memory(req$output, req$url, handle)",
      "8. curl::curl_fetch_memory(url, handle = handle)"
     ]
    }
   ],
   "source": [
    "#key <- name_suggest(q=dat$spec[spec.id], rank='species')$key[1]\n",
    "\n",
    "occ = occ_data(scientificName = data$spec[spec.id], limit=1000, minimal=FALSE)\n",
    "occ = occ$data"
   ]
  },
  {
   "cell_type": "code",
   "execution_count": 11,
   "metadata": {
    "collapsed": false
   },
   "outputs": [
    {
     "ename": "ERROR",
     "evalue": "Error in gbifmap(occ, region = \"USA\"): object 'occ' not found\n",
     "output_type": "error",
     "traceback": [
      "Error in gbifmap(occ, region = \"USA\"): object 'occ' not found\nTraceback:\n",
      "1. gbifmap(occ, region = \"USA\")"
     ]
    }
   ],
   "source": [
    "gbifmap(occ, region=\"USA\")"
   ]
  },
  {
   "cell_type": "code",
   "execution_count": null,
   "metadata": {
    "collapsed": true
   },
   "outputs": [],
   "source": [
    "occ =  occ[which(!is.na(occ$\"decimalLongitude\") & !is.na(occ$\"decimalLatitude\"))  ,]\n"
   ]
  },
  {
   "cell_type": "code",
   "execution_count": null,
   "metadata": {
    "collapsed": false
   },
   "outputs": [],
   "source": [
    "length(occ)"
   ]
  },
  {
   "cell_type": "code",
   "execution_count": null,
   "metadata": {
    "collapsed": false
   },
   "outputs": [],
   "source": [
    "x = circles(occ[,c(\"decimalLongitude\",\"decimalLatitude\")], d=50000, lonlat=T)\n",
    "bg = spsample(x@polygons, 100, type='random', iter=100)\n",
    "\n"
   ]
  },
  {
   "cell_type": "code",
   "execution_count": null,
   "metadata": {
    "collapsed": false
   },
   "outputs": [],
   "source": [
    "BClim = getData(\"worldclim\", var=\"bio\", res=2.5)\n",
    "ext = extent(rbind(range(occ$decimalLongitude), range(occ$decimalLatitude))) # define the extent\n",
    "BClim = crop(BClim, ext)\n"
   ]
  },
  {
   "cell_type": "code",
   "execution_count": null,
   "metadata": {
    "collapsed": false
   },
   "outputs": [],
   "source": [
    "occ_bc = extract(BClim, occ[,c(\"decimalLongitude\",\"decimalLatitude\")] ) # for the subsampled presence points\n",
    "bg_bc = extract(BClim, bg) # for the pseudo-absence points\n",
    "occ_bc = data.frame(lon=occ$decimalLongitude, lat=occ$decimalLatitude, occ_bc)\n",
    "head(occ_bc)\n"
   ]
  },
  {
   "cell_type": "code",
   "execution_count": null,
   "metadata": {
    "collapsed": false
   },
   "outputs": [],
   "source": [
    "bgpoints = bg@coords\n",
    "colnames(bgpoints) = c(\"lon\",\"lat\")\n",
    "bg_bc = data.frame(cbind(bgpoints,bg_bc))\n",
    "head(bg_bc)"
   ]
  },
  {
   "cell_type": "code",
   "execution_count": null,
   "metadata": {
    "collapsed": false
   },
   "outputs": [],
   "source": [
    "pres<-rep(1,dim(occ_bc)[1])\n",
    "temp1 = data.frame(pres, occ_bc[,3:21])\n",
    "temp1"
   ]
  },
  {
   "cell_type": "code",
   "execution_count": null,
   "metadata": {
    "collapsed": false
   },
   "outputs": [],
   "source": [
    "pres<-rep(1,dim(occ_bc)[1])\n",
    "temp1<-data.frame(pres,occ_bc[,3:21])\n",
    "pres<-rep(0,dim(bg_bc)[1])\n",
    "temp2<-data.frame(pres,bg_bc[,3:21])\n",
    "df<-rbind(temp1,temp2)\n",
    "head(df,5)\n"
   ]
  },
  {
   "cell_type": "code",
   "execution_count": null,
   "metadata": {
    "collapsed": true
   },
   "outputs": [],
   "source": []
  }
 ],
 "metadata": {
  "kernelspec": {
   "display_name": "R",
   "language": "R",
   "name": "ir"
  },
  "language_info": {
   "codemirror_mode": "r",
   "file_extension": ".r",
   "mimetype": "text/x-r-source",
   "name": "R",
   "pygments_lexer": "r",
   "version": "3.3.2"
  }
 },
 "nbformat": 4,
 "nbformat_minor": 2
}
