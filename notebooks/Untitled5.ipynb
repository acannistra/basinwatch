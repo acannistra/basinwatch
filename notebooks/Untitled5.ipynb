{
 "cells": [
  {
   "cell_type": "code",
   "execution_count": 37,
   "metadata": {},
   "outputs": [],
   "source": [
    "import geopandas as gpd\n",
    "import pandas as pd\n",
    "import networkx as nx\n",
    "from dbfread import DBF"
   ]
  },
  {
   "cell_type": "markdown",
   "metadata": {},
   "source": [
    "# Stream Network Chooser"
   ]
  },
  {
   "cell_type": "code",
   "execution_count": 38,
   "metadata": {},
   "outputs": [],
   "source": [
    "streamfile14 = \"../geo/networks/Flowline_CO14_NSI.shp\"\n",
    "streamfile15 = \"../geo/networks/Flowline_CO15_NSI.shp\"\n"
   ]
  },
  {
   "cell_type": "code",
   "execution_count": 45,
   "metadata": {},
   "outputs": [],
   "source": [
    "streams_14 = gpd.read_file(streamfile14)\n",
    "streams_15 = gpd.read_file(streamfile15)"
   ]
  },
  {
   "cell_type": "code",
   "execution_count": 53,
   "metadata": {},
   "outputs": [],
   "source": [
    "vaa_14 =  DBF(\"../geo/NHDPlus/NHDPlus14/14_sosc.dbf\", load=True) \n",
    "vaa_15 = DBF(\"../geo/NHDPlus/NHDPlus15/15_sosc.dbf\", load=True)"
   ]
  },
  {
   "cell_type": "code",
   "execution_count": 57,
   "metadata": {},
   "outputs": [],
   "source": [
    "vaa_14 = pd.DataFrame(vaa_14.records).set_index(\"COMID\")\n",
    "vaa_15 = pd.DataFrame(vaa_15.records).set_index(\"COMID\")"
   ]
  },
  {
   "cell_type": "code",
   "execution_count": 59,
   "metadata": {},
   "outputs": [],
   "source": [
    "streams_14 = streams_14.set_index(\"ComID\").join(vaa_14)\n",
    "streams_15 = streams_15.set_index(\"ComID\").join(vaa_15)"
   ]
  },
  {
   "cell_type": "code",
   "execution_count": 63,
   "metadata": {},
   "outputs": [],
   "source": [
    "\n",
    "co_allstreams = gpd.GeoDataFrame(pd.concat([streams_14, streams_15]), crs=streams_14.crs) \n"
   ]
  },
  {
   "cell_type": "code",
   "execution_count": 64,
   "metadata": {},
   "outputs": [],
   "source": [
    "co_allstreams.to_crs(epsg=4326).to_file(\"../geo/co_allstreams.geojson\", driver='GeoJSON')"
   ]
  },
  {
   "cell_type": "code",
   "execution_count": 70,
   "metadata": {},
   "outputs": [],
   "source": [
    "co_allstreams[co_allstreams.SO > 1 ].to_crs(epsg=4326).to_file(\"../geo/co_level2_streams.geojson\", driver='GeoJSON')"
   ]
  },
  {
   "cell_type": "code",
   "execution_count": 71,
   "metadata": {},
   "outputs": [
    {
     "data": {
      "text/plain": [
       "178660"
      ]
     },
     "execution_count": 71,
     "metadata": {},
     "output_type": "execute_result"
    }
   ],
   "source": [
    "len(co_allstreams)"
   ]
  },
  {
   "cell_type": "code",
   "execution_count": null,
   "metadata": {},
   "outputs": [],
   "source": []
  },
  {
   "cell_type": "code",
   "execution_count": 72,
   "metadata": {},
   "outputs": [],
   "source": [
    "dissolved_name = co_allstreams.dissolve(by='GNIS_Name')"
   ]
  },
  {
   "cell_type": "code",
   "execution_count": 78,
   "metadata": {},
   "outputs": [],
   "source": [
    "dissolved_name.to_crs(epsg=4326).to_file(\"../geo/dissolved.geojson\", driver='GeoJSON')\n"
   ]
  },
  {
   "cell_type": "code",
   "execution_count": 86,
   "metadata": {},
   "outputs": [
    {
     "data": {
      "text/plain": [
       "Index(['geometry', 'FDate', 'RESOLUTION', 'GNIS_ID', 'LengthKM', 'ReachCode',\n",
       "       'FLOWDIR', 'FTYPE', 'FCode', 'AreaSqKM', 'TotDASqKM', 'DUP_COMID',\n",
       "       'DUP_ArSqKM', 'DUP_Length', 'SO', 'SC'],\n",
       "      dtype='object')"
      ]
     },
     "execution_count": 86,
     "metadata": {},
     "output_type": "execute_result"
    }
   ],
   "source": [
    "dissolved_name.columns"
   ]
  },
  {
   "cell_type": "code",
   "execution_count": null,
   "metadata": {},
   "outputs": [],
   "source": []
  }
 ],
 "metadata": {
  "kernelspec": {
   "display_name": "geo",
   "language": "python",
   "name": "geo"
  },
  "language_info": {
   "codemirror_mode": {
    "name": "ipython",
    "version": 3
   },
   "file_extension": ".py",
   "mimetype": "text/x-python",
   "name": "python",
   "nbconvert_exporter": "python",
   "pygments_lexer": "ipython3",
   "version": "3.5.6"
  }
 },
 "nbformat": 4,
 "nbformat_minor": 2
}
